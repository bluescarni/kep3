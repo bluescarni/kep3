{
 "cells": [
  {
   "cell_type": "markdown",
   "metadata": {},
   "source": [
    "# The epoch system\n",
    "\n",
    "The representation of an epoch, that is of a specific point in time, be it in the future or in the past, can be rather confusing. In `pykep` we opted to offer the dedicated class named [epoch](#pykep.epoch) that takes care to offer a simple interface and, under the hoods, interfaces seamlessly both to the c++ `std::chrono`  library and the python `datetime` module. Let us briefly show its interface, but first lets import stuff."
   ]
  },
  {
   "cell_type": "code",
   "execution_count": 2,
   "metadata": {},
   "outputs": [],
   "source": [
    "import pykep as pk\n",
    "import datetime"
   ]
  },
  {
   "cell_type": "markdown",
   "metadata": {},
   "source": [
    "A [epoch](#pykep.epoch) may be created in one of four ways: \n",
    "\n",
    "1. constructing one from a Julian Date (i.e. a float representing the number of days passed from some historical date).\n",
    "2. constructing one from a datetime object.\n",
    "3. requesting the current date from the [utc_now](#pykep.utc_now) global function\n",
    "4. converting directly from an ISO 8601 string \n",
    "\n",
    ":::{note}\n",
    "**MJD2000** is the Default Julian Date. When not specified othewise by the user, in the context of epoch arithmetics a float will always be considered by `pykep` as a Mofified Julian Date 2000, i.e. as the number of days from `2000-01-01T00:00:00.000000`. "
   ]
  },
  {
   "cell_type": "markdown",
   "metadata": {},
   "source": [
    "## Julian dates"
   ]
  },
  {
   "cell_type": "code",
   "execution_count": 3,
   "metadata": {},
   "outputs": [],
   "source": [
    "ep = pk.epoch(0.)"
   ]
  },
  {
   "cell_type": "markdown",
   "metadata": {},
   "source": [
    "we can print this on screen:"
   ]
  },
  {
   "cell_type": "code",
   "execution_count": 4,
   "metadata": {},
   "outputs": [
    {
     "name": "stdout",
     "output_type": "stream",
     "text": [
      "2000-01-01T00:00:00.000000\n"
     ]
    }
   ],
   "source": [
    "print(ep)"
   ]
  },
  {
   "cell_type": "markdown",
   "metadata": {},
   "source": [
    ".. or instantiate an epoch by explicitly mentioning the Julian Date type:"
   ]
  },
  {
   "cell_type": "code",
   "execution_count": 5,
   "metadata": {},
   "outputs": [
    {
     "name": "stdout",
     "output_type": "stream",
     "text": [
      "2000-01-01T00:00:00.000000\n"
     ]
    }
   ],
   "source": [
    "ep = pk.epoch(0., pk.epoch.julian_type.MJD2000)\n",
    "print(ep)"
   ]
  },
  {
   "cell_type": "markdown",
   "metadata": {},
   "source": [
    ".. or use a different Julian Date than the default MJD2000:"
   ]
  },
  {
   "cell_type": "code",
   "execution_count": 8,
   "metadata": {},
   "outputs": [
    {
     "name": "stdout",
     "output_type": "stream",
     "text": [
      "2025-01-01T00:00:00.000000\n"
     ]
    }
   ],
   "source": [
    "ep = pk.epoch(2460676.5000000, pk.epoch.julian_type.JD)\n",
    "print(ep)"
   ]
  },
  {
   "cell_type": "markdown",
   "metadata": {},
   "source": [
    ":::{note}\n",
    "`pykep` supports the following Julian Dates MJD2000 (the default), MJD and JD.\n",
    "\n",
    "We may also request an epoch corresponding to the current UTC time:"
   ]
  },
  {
   "cell_type": "code",
   "execution_count": 7,
   "metadata": {},
   "outputs": [
    {
     "name": "stdout",
     "output_type": "stream",
     "text": [
      "2023-10-08T10:33:34.000000\n"
     ]
    }
   ],
   "source": [
    "ep = pk.utc_now()\n",
    "print(ep)"
   ]
  },
  {
   "cell_type": "markdown",
   "metadata": {},
   "source": [
    "or construct it from an iso string:\n"
   ]
  },
  {
   "cell_type": "markdown",
   "metadata": {},
   "source": [
    "## Datetime interoperability"
   ]
  },
  {
   "cell_type": "markdown",
   "metadata": {},
   "source": []
  },
  {
   "cell_type": "code",
   "execution_count": null,
   "metadata": {},
   "outputs": [],
   "source": []
  },
  {
   "cell_type": "code",
   "execution_count": null,
   "metadata": {},
   "outputs": [],
   "source": []
  }
 ],
 "metadata": {
  "kernelspec": {
   "display_name": "kep3_devel",
   "language": "python",
   "name": "python3"
  },
  "language_info": {
   "codemirror_mode": {
    "name": "ipython",
    "version": 3
   },
   "file_extension": ".py",
   "mimetype": "text/x-python",
   "name": "python",
   "nbconvert_exporter": "python",
   "pygments_lexer": "ipython3",
   "version": "3.11.6"
  },
  "orig_nbformat": 4
 },
 "nbformat": 4,
 "nbformat_minor": 2
}
